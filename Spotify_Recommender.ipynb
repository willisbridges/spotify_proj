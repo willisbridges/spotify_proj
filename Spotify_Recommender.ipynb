{
 "nbformat": 4,
 "nbformat_minor": 0,
 "metadata": {
  "colab": {
   "name": "Spotify_Recommender.ipynb",
   "provenance": []
  },
  "kernelspec": {
   "name": "python3",
   "language": "python",
   "display_name": "Python 3 (ipykernel)"
  },
  "language_info": {
   "name": "python"
  }
 },
 "cells": [
  {
   "cell_type": "markdown",
   "source": [
    "# Spotify Recommender System\n",
    "\n",
    "Dataset: <https://www.kaggle.com/datasets/rodolfofigueroa/spotify-12m-songs>\n",
    "\n",
    "If you're working in Google Colab it will take a few minutes to upload this dataset. It will be faster if you're able to work in a local Jupyter notebook (By the way, VS Code can run notebooks. Try saving a file with the extension `.ipynb` and then open it in VS Code). \n",
    "\n",
    "You might want to subset this dataset to something like 100k rows right off of the bat so that it's easier to work with. You can do all of your modeling with the 100k row version and then once you've got things working the way you want them to you can run the notebook once with the entire dataset. "
   ],
   "metadata": {
    "id": "grXszmlPWj7j"
   }
  },
  {
   "cell_type": "code",
   "execution_count": 1,
   "metadata": {
    "id": "J9IpcMC7WZpE",
    "ExecuteTime": {
     "end_time": "2024-01-23T00:29:53.098357700Z",
     "start_time": "2024-01-23T00:29:52.344318700Z"
    }
   },
   "outputs": [],
   "source": [
    "import pandas as pd\n",
    "import numpy as np\n",
    "from sklearn.neighbors import NearestNeighbors"
   ]
  },
  {
   "cell_type": "code",
   "source": [
    "# Load dataset and sample it down to 8% of the original size\n",
    "# Reset index after sampling to make indices easier to reason about\n",
    "df = pd.read_csv('tracks_features.csv')\n",
    "df = df.sample(frac=.08, random_state=42).reset_index()\n",
    "\n",
    "# Drop old index to avoid confusing it for the new one\n",
    "df = df.drop(columns=['index'])"
   ],
   "metadata": {
    "id": "QGPnCBIEf6Lf",
    "ExecuteTime": {
     "end_time": "2024-01-23T00:33:14.406726700Z",
     "start_time": "2024-01-23T00:33:10.000674Z"
    }
   },
   "execution_count": 3,
   "outputs": []
  },
  {
   "cell_type": "markdown",
   "source": [
    "### Usable Columns?\n",
    "\n",
    "Columns that I can use with minimal data cleaning to make a simple recommender system. I could definitely make this better if I went to the work to make more columns or to do some feature engineering, but I want to get to a working prototype as fast as possible.\n",
    "\n",
    "- explicit\n",
    "- danceability\n",
    "- energy\n",
    "- key\n",
    "- loudness\n",
    "- mode\n",
    "- speechiness\n",
    "- acousticness\n",
    "- time_signature\n",
    "- year \n",
    "\n",
    "Todo:\n",
    "\n",
    "- Check for Null Values (None)\n",
    "- Categorically encode `explicit` column"
   ],
   "metadata": {
    "id": "hVnnISFOgo3v"
   }
  },
  {
   "cell_type": "code",
   "source": [
    "df.shape"
   ],
   "metadata": {
    "colab": {
     "base_uri": "https://localhost:8080/"
    },
    "id": "ywEvxnD6gN3H",
    "outputId": "f550f7de-563a-482c-98a0-9b9239d4e0b6",
    "ExecuteTime": {
     "end_time": "2024-01-23T00:33:35.212804400Z",
     "start_time": "2024-01-23T00:33:35.203806700Z"
    }
   },
   "execution_count": 4,
   "outputs": [
    {
     "data": {
      "text/plain": "(96322, 24)"
     },
     "execution_count": 4,
     "metadata": {},
     "output_type": "execute_result"
    }
   ]
  },
  {
   "cell_type": "code",
   "source": [
    "df.columns"
   ],
   "metadata": {
    "colab": {
     "base_uri": "https://localhost:8080/"
    },
    "id": "GEswycLHgRdi",
    "outputId": "ad5d63a3-3ebd-407a-ebed-3f89a78233f9",
    "ExecuteTime": {
     "end_time": "2024-01-23T00:35:55.328389100Z",
     "start_time": "2024-01-23T00:35:55.325389800Z"
    }
   },
   "execution_count": 5,
   "outputs": [
    {
     "data": {
      "text/plain": "Index(['id', 'name', 'album', 'album_id', 'artists', 'artist_ids',\n       'track_number', 'disc_number', 'explicit', 'danceability', 'energy',\n       'key', 'loudness', 'mode', 'speechiness', 'acousticness',\n       'instrumentalness', 'liveness', 'valence', 'tempo', 'duration_ms',\n       'time_signature', 'year', 'release_date'],\n      dtype='object')"
     },
     "execution_count": 5,
     "metadata": {},
     "output_type": "execute_result"
    }
   ]
  },
  {
   "cell_type": "code",
   "source": [
    "df.head()"
   ],
   "metadata": {
    "colab": {
     "base_uri": "https://localhost:8080/",
     "height": 525
    },
    "id": "r4F6qfJ_gz1a",
    "outputId": "9177d165-9465-43db-a1d9-8495c7ace33e",
    "ExecuteTime": {
     "end_time": "2024-01-23T00:35:59.091554600Z",
     "start_time": "2024-01-23T00:35:59.044555800Z"
    }
   },
   "execution_count": 6,
   "outputs": [
    {
     "data": {
      "text/plain": "                       id                                    name  \\\n0  1aGS6nf2xgv3Xzdob4eOO3                   Smokin' Sticky Sticky   \n1  0fJfoqHIIiET2EcgjOfntG                  Holding Back the Years   \n2  0V2R2LC8dR7S0REieXRaGt  All Along The Watchtower - Live - 1991   \n3  4VUHYLocWOJ2GfvP78AmSs                               Windmills   \n4  4m8a1AtmCnoeRzSYoQ0oX0                          Overnite Flite   \n\n                    album                album_id           artists  \\\n0    Beat'n Down Yo Block  5ZO72kl3xMRRzlpod55k1Q           ['Unk']   \n1  Holding Back The Years  7sV4kCqQYt8agM5TjkdOYU  ['Norm Douglas']   \n2  Back On The Bus, Y'All  3jmmx4jRkul3POEhn1cgwF  ['Indigo Girls']   \n3          Total Folklore  5PyLkzuxmT6EoVNZCg8Iya     ['Dan Friel']   \n4   Normal Human Feelings  623VIdYR6Y0NCN9yPbMAC6   ['Little Suns']   \n\n                   artist_ids  track_number  disc_number  explicit  \\\n0  ['0PGtMx1bsqoCHCy3MB3gXA']            15            1      True   \n1  ['4kxKyoiYhldUlnfeCZtD0D']             1            1     False   \n2  ['4wM29TDTr3HI0qFY3KoSFG']             7            1     False   \n3  ['4HKTPJw50BFASrfhJEHIVP']             2            1     False   \n4  ['5OLcAqMbHpecNOIQyTduQ7']             2            1     False   \n\n   danceability  ...  speechiness  acousticness  instrumentalness  liveness  \\\n0         0.623  ...       0.4020      0.002100          0.000000    0.0691   \n1         0.585  ...       0.0333      0.316000          0.775000    0.0993   \n2         0.331  ...       0.0379      0.709000          0.000000    0.9390   \n3         0.193  ...       0.1090      0.000049          0.838000    0.2850   \n4         0.546  ...       0.0323      0.427000          0.000105    0.1970   \n\n   valence    tempo  duration_ms  time_signature  year  release_date  \n0    0.422   87.988       380427             4.0  2006    2006-10-03  \n1    0.880  170.082       266520             4.0  2008    2008-06-13  \n2    0.430   90.648       383773             4.0  1991    1991-06-04  \n3    0.594  113.345        82493             4.0  2013    2013-02-19  \n4    0.424  127.941       230667             1.0  2013    2013-10-08  \n\n[5 rows x 24 columns]",
      "text/html": "<div>\n<style scoped>\n    .dataframe tbody tr th:only-of-type {\n        vertical-align: middle;\n    }\n\n    .dataframe tbody tr th {\n        vertical-align: top;\n    }\n\n    .dataframe thead th {\n        text-align: right;\n    }\n</style>\n<table border=\"1\" class=\"dataframe\">\n  <thead>\n    <tr style=\"text-align: right;\">\n      <th></th>\n      <th>id</th>\n      <th>name</th>\n      <th>album</th>\n      <th>album_id</th>\n      <th>artists</th>\n      <th>artist_ids</th>\n      <th>track_number</th>\n      <th>disc_number</th>\n      <th>explicit</th>\n      <th>danceability</th>\n      <th>...</th>\n      <th>speechiness</th>\n      <th>acousticness</th>\n      <th>instrumentalness</th>\n      <th>liveness</th>\n      <th>valence</th>\n      <th>tempo</th>\n      <th>duration_ms</th>\n      <th>time_signature</th>\n      <th>year</th>\n      <th>release_date</th>\n    </tr>\n  </thead>\n  <tbody>\n    <tr>\n      <th>0</th>\n      <td>1aGS6nf2xgv3Xzdob4eOO3</td>\n      <td>Smokin' Sticky Sticky</td>\n      <td>Beat'n Down Yo Block</td>\n      <td>5ZO72kl3xMRRzlpod55k1Q</td>\n      <td>['Unk']</td>\n      <td>['0PGtMx1bsqoCHCy3MB3gXA']</td>\n      <td>15</td>\n      <td>1</td>\n      <td>True</td>\n      <td>0.623</td>\n      <td>...</td>\n      <td>0.4020</td>\n      <td>0.002100</td>\n      <td>0.000000</td>\n      <td>0.0691</td>\n      <td>0.422</td>\n      <td>87.988</td>\n      <td>380427</td>\n      <td>4.0</td>\n      <td>2006</td>\n      <td>2006-10-03</td>\n    </tr>\n    <tr>\n      <th>1</th>\n      <td>0fJfoqHIIiET2EcgjOfntG</td>\n      <td>Holding Back the Years</td>\n      <td>Holding Back The Years</td>\n      <td>7sV4kCqQYt8agM5TjkdOYU</td>\n      <td>['Norm Douglas']</td>\n      <td>['4kxKyoiYhldUlnfeCZtD0D']</td>\n      <td>1</td>\n      <td>1</td>\n      <td>False</td>\n      <td>0.585</td>\n      <td>...</td>\n      <td>0.0333</td>\n      <td>0.316000</td>\n      <td>0.775000</td>\n      <td>0.0993</td>\n      <td>0.880</td>\n      <td>170.082</td>\n      <td>266520</td>\n      <td>4.0</td>\n      <td>2008</td>\n      <td>2008-06-13</td>\n    </tr>\n    <tr>\n      <th>2</th>\n      <td>0V2R2LC8dR7S0REieXRaGt</td>\n      <td>All Along The Watchtower - Live - 1991</td>\n      <td>Back On The Bus, Y'All</td>\n      <td>3jmmx4jRkul3POEhn1cgwF</td>\n      <td>['Indigo Girls']</td>\n      <td>['4wM29TDTr3HI0qFY3KoSFG']</td>\n      <td>7</td>\n      <td>1</td>\n      <td>False</td>\n      <td>0.331</td>\n      <td>...</td>\n      <td>0.0379</td>\n      <td>0.709000</td>\n      <td>0.000000</td>\n      <td>0.9390</td>\n      <td>0.430</td>\n      <td>90.648</td>\n      <td>383773</td>\n      <td>4.0</td>\n      <td>1991</td>\n      <td>1991-06-04</td>\n    </tr>\n    <tr>\n      <th>3</th>\n      <td>4VUHYLocWOJ2GfvP78AmSs</td>\n      <td>Windmills</td>\n      <td>Total Folklore</td>\n      <td>5PyLkzuxmT6EoVNZCg8Iya</td>\n      <td>['Dan Friel']</td>\n      <td>['4HKTPJw50BFASrfhJEHIVP']</td>\n      <td>2</td>\n      <td>1</td>\n      <td>False</td>\n      <td>0.193</td>\n      <td>...</td>\n      <td>0.1090</td>\n      <td>0.000049</td>\n      <td>0.838000</td>\n      <td>0.2850</td>\n      <td>0.594</td>\n      <td>113.345</td>\n      <td>82493</td>\n      <td>4.0</td>\n      <td>2013</td>\n      <td>2013-02-19</td>\n    </tr>\n    <tr>\n      <th>4</th>\n      <td>4m8a1AtmCnoeRzSYoQ0oX0</td>\n      <td>Overnite Flite</td>\n      <td>Normal Human Feelings</td>\n      <td>623VIdYR6Y0NCN9yPbMAC6</td>\n      <td>['Little Suns']</td>\n      <td>['5OLcAqMbHpecNOIQyTduQ7']</td>\n      <td>2</td>\n      <td>1</td>\n      <td>False</td>\n      <td>0.546</td>\n      <td>...</td>\n      <td>0.0323</td>\n      <td>0.427000</td>\n      <td>0.000105</td>\n      <td>0.1970</td>\n      <td>0.424</td>\n      <td>127.941</td>\n      <td>230667</td>\n      <td>1.0</td>\n      <td>2013</td>\n      <td>2013-10-08</td>\n    </tr>\n  </tbody>\n</table>\n<p>5 rows × 24 columns</p>\n</div>"
     },
     "execution_count": 6,
     "metadata": {},
     "output_type": "execute_result"
    }
   ]
  },
  {
   "cell_type": "code",
   "source": [
    "# no null values\n",
    "df.isnull().sum()"
   ],
   "metadata": {
    "colab": {
     "base_uri": "https://localhost:8080/"
    },
    "id": "o5cVLeoMg0fc",
    "outputId": "e5379d39-32db-4bd4-f22d-2de6a8f708ff",
    "ExecuteTime": {
     "end_time": "2024-01-23T00:36:06.876192400Z",
     "start_time": "2024-01-23T00:36:06.853192500Z"
    }
   },
   "execution_count": 7,
   "outputs": [
    {
     "data": {
      "text/plain": "id                  0\nname                0\nalbum               0\nalbum_id            0\nartists             0\nartist_ids          0\ntrack_number        0\ndisc_number         0\nexplicit            0\ndanceability        0\nenergy              0\nkey                 0\nloudness            0\nmode                0\nspeechiness         0\nacousticness        0\ninstrumentalness    0\nliveness            0\nvalence             0\ntempo               0\nduration_ms         0\ntime_signature      0\nyear                0\nrelease_date        0\ndtype: int64"
     },
     "execution_count": 7,
     "metadata": {},
     "output_type": "execute_result"
    }
   ]
  },
  {
   "cell_type": "code",
   "source": [
    "# any column that contains True and False will automatically\n",
    "# change to 1s and 0s when cast to the `int` datatype\n",
    "df['explicit'] = df['explicit'].astype(int)\n",
    "\n",
    "df.head()"
   ],
   "metadata": {
    "colab": {
     "base_uri": "https://localhost:8080/",
     "height": 525
    },
    "id": "JKbhE-IehRCZ",
    "outputId": "94dfaa7a-5c41-47f9-a07b-65c845518cf8",
    "ExecuteTime": {
     "end_time": "2024-01-23T00:36:34.380829400Z",
     "start_time": "2024-01-23T00:36:34.349831Z"
    }
   },
   "execution_count": 8,
   "outputs": [
    {
     "data": {
      "text/plain": "                       id                                    name  \\\n0  1aGS6nf2xgv3Xzdob4eOO3                   Smokin' Sticky Sticky   \n1  0fJfoqHIIiET2EcgjOfntG                  Holding Back the Years   \n2  0V2R2LC8dR7S0REieXRaGt  All Along The Watchtower - Live - 1991   \n3  4VUHYLocWOJ2GfvP78AmSs                               Windmills   \n4  4m8a1AtmCnoeRzSYoQ0oX0                          Overnite Flite   \n\n                    album                album_id           artists  \\\n0    Beat'n Down Yo Block  5ZO72kl3xMRRzlpod55k1Q           ['Unk']   \n1  Holding Back The Years  7sV4kCqQYt8agM5TjkdOYU  ['Norm Douglas']   \n2  Back On The Bus, Y'All  3jmmx4jRkul3POEhn1cgwF  ['Indigo Girls']   \n3          Total Folklore  5PyLkzuxmT6EoVNZCg8Iya     ['Dan Friel']   \n4   Normal Human Feelings  623VIdYR6Y0NCN9yPbMAC6   ['Little Suns']   \n\n                   artist_ids  track_number  disc_number  explicit  \\\n0  ['0PGtMx1bsqoCHCy3MB3gXA']            15            1         1   \n1  ['4kxKyoiYhldUlnfeCZtD0D']             1            1         0   \n2  ['4wM29TDTr3HI0qFY3KoSFG']             7            1         0   \n3  ['4HKTPJw50BFASrfhJEHIVP']             2            1         0   \n4  ['5OLcAqMbHpecNOIQyTduQ7']             2            1         0   \n\n   danceability  ...  speechiness  acousticness  instrumentalness  liveness  \\\n0         0.623  ...       0.4020      0.002100          0.000000    0.0691   \n1         0.585  ...       0.0333      0.316000          0.775000    0.0993   \n2         0.331  ...       0.0379      0.709000          0.000000    0.9390   \n3         0.193  ...       0.1090      0.000049          0.838000    0.2850   \n4         0.546  ...       0.0323      0.427000          0.000105    0.1970   \n\n   valence    tempo  duration_ms  time_signature  year  release_date  \n0    0.422   87.988       380427             4.0  2006    2006-10-03  \n1    0.880  170.082       266520             4.0  2008    2008-06-13  \n2    0.430   90.648       383773             4.0  1991    1991-06-04  \n3    0.594  113.345        82493             4.0  2013    2013-02-19  \n4    0.424  127.941       230667             1.0  2013    2013-10-08  \n\n[5 rows x 24 columns]",
      "text/html": "<div>\n<style scoped>\n    .dataframe tbody tr th:only-of-type {\n        vertical-align: middle;\n    }\n\n    .dataframe tbody tr th {\n        vertical-align: top;\n    }\n\n    .dataframe thead th {\n        text-align: right;\n    }\n</style>\n<table border=\"1\" class=\"dataframe\">\n  <thead>\n    <tr style=\"text-align: right;\">\n      <th></th>\n      <th>id</th>\n      <th>name</th>\n      <th>album</th>\n      <th>album_id</th>\n      <th>artists</th>\n      <th>artist_ids</th>\n      <th>track_number</th>\n      <th>disc_number</th>\n      <th>explicit</th>\n      <th>danceability</th>\n      <th>...</th>\n      <th>speechiness</th>\n      <th>acousticness</th>\n      <th>instrumentalness</th>\n      <th>liveness</th>\n      <th>valence</th>\n      <th>tempo</th>\n      <th>duration_ms</th>\n      <th>time_signature</th>\n      <th>year</th>\n      <th>release_date</th>\n    </tr>\n  </thead>\n  <tbody>\n    <tr>\n      <th>0</th>\n      <td>1aGS6nf2xgv3Xzdob4eOO3</td>\n      <td>Smokin' Sticky Sticky</td>\n      <td>Beat'n Down Yo Block</td>\n      <td>5ZO72kl3xMRRzlpod55k1Q</td>\n      <td>['Unk']</td>\n      <td>['0PGtMx1bsqoCHCy3MB3gXA']</td>\n      <td>15</td>\n      <td>1</td>\n      <td>1</td>\n      <td>0.623</td>\n      <td>...</td>\n      <td>0.4020</td>\n      <td>0.002100</td>\n      <td>0.000000</td>\n      <td>0.0691</td>\n      <td>0.422</td>\n      <td>87.988</td>\n      <td>380427</td>\n      <td>4.0</td>\n      <td>2006</td>\n      <td>2006-10-03</td>\n    </tr>\n    <tr>\n      <th>1</th>\n      <td>0fJfoqHIIiET2EcgjOfntG</td>\n      <td>Holding Back the Years</td>\n      <td>Holding Back The Years</td>\n      <td>7sV4kCqQYt8agM5TjkdOYU</td>\n      <td>['Norm Douglas']</td>\n      <td>['4kxKyoiYhldUlnfeCZtD0D']</td>\n      <td>1</td>\n      <td>1</td>\n      <td>0</td>\n      <td>0.585</td>\n      <td>...</td>\n      <td>0.0333</td>\n      <td>0.316000</td>\n      <td>0.775000</td>\n      <td>0.0993</td>\n      <td>0.880</td>\n      <td>170.082</td>\n      <td>266520</td>\n      <td>4.0</td>\n      <td>2008</td>\n      <td>2008-06-13</td>\n    </tr>\n    <tr>\n      <th>2</th>\n      <td>0V2R2LC8dR7S0REieXRaGt</td>\n      <td>All Along The Watchtower - Live - 1991</td>\n      <td>Back On The Bus, Y'All</td>\n      <td>3jmmx4jRkul3POEhn1cgwF</td>\n      <td>['Indigo Girls']</td>\n      <td>['4wM29TDTr3HI0qFY3KoSFG']</td>\n      <td>7</td>\n      <td>1</td>\n      <td>0</td>\n      <td>0.331</td>\n      <td>...</td>\n      <td>0.0379</td>\n      <td>0.709000</td>\n      <td>0.000000</td>\n      <td>0.9390</td>\n      <td>0.430</td>\n      <td>90.648</td>\n      <td>383773</td>\n      <td>4.0</td>\n      <td>1991</td>\n      <td>1991-06-04</td>\n    </tr>\n    <tr>\n      <th>3</th>\n      <td>4VUHYLocWOJ2GfvP78AmSs</td>\n      <td>Windmills</td>\n      <td>Total Folklore</td>\n      <td>5PyLkzuxmT6EoVNZCg8Iya</td>\n      <td>['Dan Friel']</td>\n      <td>['4HKTPJw50BFASrfhJEHIVP']</td>\n      <td>2</td>\n      <td>1</td>\n      <td>0</td>\n      <td>0.193</td>\n      <td>...</td>\n      <td>0.1090</td>\n      <td>0.000049</td>\n      <td>0.838000</td>\n      <td>0.2850</td>\n      <td>0.594</td>\n      <td>113.345</td>\n      <td>82493</td>\n      <td>4.0</td>\n      <td>2013</td>\n      <td>2013-02-19</td>\n    </tr>\n    <tr>\n      <th>4</th>\n      <td>4m8a1AtmCnoeRzSYoQ0oX0</td>\n      <td>Overnite Flite</td>\n      <td>Normal Human Feelings</td>\n      <td>623VIdYR6Y0NCN9yPbMAC6</td>\n      <td>['Little Suns']</td>\n      <td>['5OLcAqMbHpecNOIQyTduQ7']</td>\n      <td>2</td>\n      <td>1</td>\n      <td>0</td>\n      <td>0.546</td>\n      <td>...</td>\n      <td>0.0323</td>\n      <td>0.427000</td>\n      <td>0.000105</td>\n      <td>0.1970</td>\n      <td>0.424</td>\n      <td>127.941</td>\n      <td>230667</td>\n      <td>1.0</td>\n      <td>2013</td>\n      <td>2013-10-08</td>\n    </tr>\n  </tbody>\n</table>\n<p>5 rows × 24 columns</p>\n</div>"
     },
     "execution_count": 8,
     "metadata": {},
     "output_type": "execute_result"
    }
   ]
  },
  {
   "cell_type": "markdown",
   "source": [
    "## Create X Matrix of numeric song attributes"
   ],
   "metadata": {
    "id": "oLYmq596iMvj"
   }
  },
  {
   "cell_type": "code",
   "source": [
    "usable_columns =['explicit', 'danceability', 'energy', 'key', 'loudness', \n",
    "        'mode', 'speechiness', 'acousticness', 'time_signature', 'year' ]\n",
    "\n",
    "X = df[usable_columns]\n",
    "\n",
    "X.head()"
   ],
   "metadata": {
    "colab": {
     "base_uri": "https://localhost:8080/",
     "height": 206
    },
    "id": "oc5wc7TViMGK",
    "outputId": "209a96ea-ab90-44d0-efc6-1ff7f55637cc",
    "ExecuteTime": {
     "end_time": "2024-01-23T00:37:36.902673900Z",
     "start_time": "2024-01-23T00:37:36.889673900Z"
    }
   },
   "execution_count": 9,
   "outputs": [
    {
     "data": {
      "text/plain": "   explicit  danceability  energy  key  loudness  mode  speechiness  \\\n0         1         0.623   0.736   11    -3.657     0       0.4020   \n1         0         0.585   0.639    2    -9.641     0       0.0333   \n2         0         0.331   0.466    9   -14.287     0       0.0379   \n3         0         0.193   0.856    4    -2.970     1       0.1090   \n4         0         0.546   0.373    3   -13.929     1       0.0323   \n\n   acousticness  time_signature  year  \n0      0.002100             4.0  2006  \n1      0.316000             4.0  2008  \n2      0.709000             4.0  1991  \n3      0.000049             4.0  2013  \n4      0.427000             1.0  2013  ",
      "text/html": "<div>\n<style scoped>\n    .dataframe tbody tr th:only-of-type {\n        vertical-align: middle;\n    }\n\n    .dataframe tbody tr th {\n        vertical-align: top;\n    }\n\n    .dataframe thead th {\n        text-align: right;\n    }\n</style>\n<table border=\"1\" class=\"dataframe\">\n  <thead>\n    <tr style=\"text-align: right;\">\n      <th></th>\n      <th>explicit</th>\n      <th>danceability</th>\n      <th>energy</th>\n      <th>key</th>\n      <th>loudness</th>\n      <th>mode</th>\n      <th>speechiness</th>\n      <th>acousticness</th>\n      <th>time_signature</th>\n      <th>year</th>\n    </tr>\n  </thead>\n  <tbody>\n    <tr>\n      <th>0</th>\n      <td>1</td>\n      <td>0.623</td>\n      <td>0.736</td>\n      <td>11</td>\n      <td>-3.657</td>\n      <td>0</td>\n      <td>0.4020</td>\n      <td>0.002100</td>\n      <td>4.0</td>\n      <td>2006</td>\n    </tr>\n    <tr>\n      <th>1</th>\n      <td>0</td>\n      <td>0.585</td>\n      <td>0.639</td>\n      <td>2</td>\n      <td>-9.641</td>\n      <td>0</td>\n      <td>0.0333</td>\n      <td>0.316000</td>\n      <td>4.0</td>\n      <td>2008</td>\n    </tr>\n    <tr>\n      <th>2</th>\n      <td>0</td>\n      <td>0.331</td>\n      <td>0.466</td>\n      <td>9</td>\n      <td>-14.287</td>\n      <td>0</td>\n      <td>0.0379</td>\n      <td>0.709000</td>\n      <td>4.0</td>\n      <td>1991</td>\n    </tr>\n    <tr>\n      <th>3</th>\n      <td>0</td>\n      <td>0.193</td>\n      <td>0.856</td>\n      <td>4</td>\n      <td>-2.970</td>\n      <td>1</td>\n      <td>0.1090</td>\n      <td>0.000049</td>\n      <td>4.0</td>\n      <td>2013</td>\n    </tr>\n    <tr>\n      <th>4</th>\n      <td>0</td>\n      <td>0.546</td>\n      <td>0.373</td>\n      <td>3</td>\n      <td>-13.929</td>\n      <td>1</td>\n      <td>0.0323</td>\n      <td>0.427000</td>\n      <td>1.0</td>\n      <td>2013</td>\n    </tr>\n  </tbody>\n</table>\n</div>"
     },
     "execution_count": 9,
     "metadata": {},
     "output_type": "execute_result"
    }
   ]
  },
  {
   "cell_type": "markdown",
   "source": [
    "# Use Nearest Neighbors to get 5 most similar songs.\n",
    "\n",
    "> Indented block\n",
    "\n"
   ],
   "metadata": {
    "id": "vQ8K5g3-h-Ny"
   }
  },
  {
   "cell_type": "code",
   "source": [
    "neigh = NearestNeighbors(n_neighbors=5, n_jobs=-1)\n",
    "neigh.fit(X)"
   ],
   "metadata": {
    "colab": {
     "base_uri": "https://localhost:8080/"
    },
    "id": "Qcwyb-uGht6m",
    "outputId": "c5420065-9f56-4c5e-d2d0-92984978a7b4",
    "ExecuteTime": {
     "end_time": "2024-01-23T00:37:55.142830200Z",
     "start_time": "2024-01-23T00:37:54.802829600Z"
    }
   },
   "execution_count": 10,
   "outputs": [
    {
     "data": {
      "text/plain": "NearestNeighbors(n_jobs=-1)"
     },
     "execution_count": 10,
     "metadata": {},
     "output_type": "execute_result"
    }
   ]
  },
  {
   "cell_type": "code",
   "source": [
    "# Track name needs to be exact match of spelling, punctuation and capitalization\n",
    "track_name = \"Holding Back the Years\"\n",
    "\n",
    "# Look at the song that we want to find recommendations for\n",
    "df[df['name'] == track_name]"
   ],
   "metadata": {
    "colab": {
     "base_uri": "https://localhost:8080/",
     "height": 309
    },
    "id": "g1y10v4TjfLT",
    "outputId": "1925a7f0-09a9-4c6e-a719-8fd25194cfbf",
    "ExecuteTime": {
     "end_time": "2024-01-23T00:38:08.680225900Z",
     "start_time": "2024-01-23T00:38:08.646196Z"
    }
   },
   "execution_count": 11,
   "outputs": [
    {
     "data": {
      "text/plain": "                           id                    name                   album  \\\n1      0fJfoqHIIiET2EcgjOfntG  Holding Back the Years  Holding Back The Years   \n82635  5F9WGLNnZRRwVyiCt1nHDr  Holding Back the Years      The Lost and Found   \n\n                     album_id               artists  \\\n1      7sV4kCqQYt8agM5TjkdOYU      ['Norm Douglas']   \n82635  4fZx2cNk1Vod8jZkPSWBpv  ['Gretchen Parlato']   \n\n                       artist_ids  track_number  disc_number  explicit  \\\n1      ['4kxKyoiYhldUlnfeCZtD0D']             1            1         0   \n82635  ['76Gi1qoWLrIerL5FcL0TZb']             1            1         0   \n\n       danceability  ...  speechiness  acousticness  instrumentalness  \\\n1             0.585  ...       0.0333         0.316             0.775   \n82635         0.541  ...       0.0427         0.778             0.130   \n\n       liveness  valence    tempo  duration_ms  time_signature  year  \\\n1        0.0993    0.880  170.082       266520             4.0  2008   \n82635    0.1150    0.127   92.624       226587             4.0  2011   \n\n       release_date  \n1        2008-06-13  \n82635    2011-04-05  \n\n[2 rows x 24 columns]",
      "text/html": "<div>\n<style scoped>\n    .dataframe tbody tr th:only-of-type {\n        vertical-align: middle;\n    }\n\n    .dataframe tbody tr th {\n        vertical-align: top;\n    }\n\n    .dataframe thead th {\n        text-align: right;\n    }\n</style>\n<table border=\"1\" class=\"dataframe\">\n  <thead>\n    <tr style=\"text-align: right;\">\n      <th></th>\n      <th>id</th>\n      <th>name</th>\n      <th>album</th>\n      <th>album_id</th>\n      <th>artists</th>\n      <th>artist_ids</th>\n      <th>track_number</th>\n      <th>disc_number</th>\n      <th>explicit</th>\n      <th>danceability</th>\n      <th>...</th>\n      <th>speechiness</th>\n      <th>acousticness</th>\n      <th>instrumentalness</th>\n      <th>liveness</th>\n      <th>valence</th>\n      <th>tempo</th>\n      <th>duration_ms</th>\n      <th>time_signature</th>\n      <th>year</th>\n      <th>release_date</th>\n    </tr>\n  </thead>\n  <tbody>\n    <tr>\n      <th>1</th>\n      <td>0fJfoqHIIiET2EcgjOfntG</td>\n      <td>Holding Back the Years</td>\n      <td>Holding Back The Years</td>\n      <td>7sV4kCqQYt8agM5TjkdOYU</td>\n      <td>['Norm Douglas']</td>\n      <td>['4kxKyoiYhldUlnfeCZtD0D']</td>\n      <td>1</td>\n      <td>1</td>\n      <td>0</td>\n      <td>0.585</td>\n      <td>...</td>\n      <td>0.0333</td>\n      <td>0.316</td>\n      <td>0.775</td>\n      <td>0.0993</td>\n      <td>0.880</td>\n      <td>170.082</td>\n      <td>266520</td>\n      <td>4.0</td>\n      <td>2008</td>\n      <td>2008-06-13</td>\n    </tr>\n    <tr>\n      <th>82635</th>\n      <td>5F9WGLNnZRRwVyiCt1nHDr</td>\n      <td>Holding Back the Years</td>\n      <td>The Lost and Found</td>\n      <td>4fZx2cNk1Vod8jZkPSWBpv</td>\n      <td>['Gretchen Parlato']</td>\n      <td>['76Gi1qoWLrIerL5FcL0TZb']</td>\n      <td>1</td>\n      <td>1</td>\n      <td>0</td>\n      <td>0.541</td>\n      <td>...</td>\n      <td>0.0427</td>\n      <td>0.778</td>\n      <td>0.130</td>\n      <td>0.1150</td>\n      <td>0.127</td>\n      <td>92.624</td>\n      <td>226587</td>\n      <td>4.0</td>\n      <td>2011</td>\n      <td>2011-04-05</td>\n    </tr>\n  </tbody>\n</table>\n<p>2 rows × 24 columns</p>\n</div>"
     },
     "execution_count": 11,
     "metadata": {},
     "output_type": "execute_result"
    }
   ]
  },
  {
   "cell_type": "code",
   "source": [
    "# We may have multiple tracks that match this title, we'll just select the first one\n",
    "# We'll grab only its row index and then use that select the corresponding song's\n",
    "# data from our X matrix.\n",
    "track_index = df[df['name'] == track_name].index[0]\n",
    "\n",
    "track_data = X.iloc[track_index]\n",
    "\n",
    "track_data"
   ],
   "metadata": {
    "colab": {
     "base_uri": "https://localhost:8080/"
    },
    "id": "jEXyhLTNyff7",
    "outputId": "b5b9ac44-76d7-4345-958d-3183dd43ec0a",
    "ExecuteTime": {
     "end_time": "2024-01-23T00:38:38.661550100Z",
     "start_time": "2024-01-23T00:38:38.647550100Z"
    }
   },
   "execution_count": 12,
   "outputs": [
    {
     "data": {
      "text/plain": "explicit             0.0000\ndanceability         0.5850\nenergy               0.6390\nkey                  2.0000\nloudness            -9.6410\nmode                 0.0000\nspeechiness          0.0333\nacousticness         0.3160\ntime_signature       4.0000\nyear              2008.0000\nName: 1, dtype: float64"
     },
     "execution_count": 12,
     "metadata": {},
     "output_type": "execute_result"
    }
   ]
  },
  {
   "cell_type": "code",
   "source": [
    "# Input to model must be a 2D array\n",
    "# .reshape(1,-1) turns a 1D array into a 2D array\n",
    "# (basically just adds an extra set of square brackets at\n",
    "# the beginning and end of the array.)\n",
    "track_data = track_data.values.reshape(1,-1)\n",
    "\n",
    "track_data"
   ],
   "metadata": {
    "colab": {
     "base_uri": "https://localhost:8080/"
    },
    "id": "JFYIauozk-lx",
    "outputId": "d2fe7133-ce74-4372-c16b-13ec733ac83f",
    "ExecuteTime": {
     "end_time": "2024-01-23T00:41:25.361781800Z",
     "start_time": "2024-01-23T00:41:25.352784100Z"
    }
   },
   "execution_count": 13,
   "outputs": [
    {
     "data": {
      "text/plain": "array([[ 0.000e+00,  5.850e-01,  6.390e-01,  2.000e+00, -9.641e+00,\n         0.000e+00,  3.330e-02,  3.160e-01,  4.000e+00,  2.008e+03]])"
     },
     "execution_count": 13,
     "metadata": {},
     "output_type": "execute_result"
    }
   ]
  },
  {
   "cell_type": "code",
   "source": [
    "# Since the selected song is also in the training data,\n",
    "# the most similar song is itself \n",
    "# We will ask for 6 songs to get back 5 songs in addition to the one provided\n",
    "distances, song_indexes = neigh.kneighbors(track_data, 6)\n",
    "\n",
    "song_indexes"
   ],
   "metadata": {
    "colab": {
     "base_uri": "https://localhost:8080/"
    },
    "id": "ulHQX0Vck1S_",
    "outputId": "07ceec92-ef59-479d-b458-833395381a87",
    "ExecuteTime": {
     "end_time": "2024-01-23T00:42:27.031181400Z",
     "start_time": "2024-01-23T00:42:27.006185Z"
    }
   },
   "execution_count": 14,
   "outputs": [
    {
     "data": {
      "text/plain": "array([[    1, 69557, 34753,  7222, 50380, 37367]], dtype=int64)"
     },
     "execution_count": 14,
     "metadata": {},
     "output_type": "execute_result"
    }
   ]
  },
  {
   "cell_type": "code",
   "source": [
    "# 5 most similar songs\n",
    "for index in song_indexes:\n",
    "  print(df.iloc[index][['name', 'artists']])"
   ],
   "metadata": {
    "colab": {
     "base_uri": "https://localhost:8080/"
    },
    "id": "m9eaSfkWmPI1",
    "outputId": "c7de5ce6-3c64-41a1-b473-316370caabde"
   },
   "execution_count": 216,
   "outputs": [
    {
     "output_type": "stream",
     "name": "stdout",
     "text": [
      "                            name                  artists\n",
      "1         Holding Back the Years         ['Norm Douglas']\n",
      "69557                 Ma Mélodie           ['Feet Peals']\n",
      "34753     Minha Bênção (Ao Vivo)  ['Padre Marcelo Rossi']\n",
      "7222   Stuck In A Glass Elevator           ['The Myriad']\n",
      "50380        Club Hip Hop Beat 2       ['Jorge Quintero']\n",
      "37367           Like...monk-like    ['The Reese Project']\n"
     ]
    }
   ]
  },
  {
   "cell_type": "code",
   "source": [],
   "metadata": {
    "id": "im8-bHmxy43T"
   },
   "execution_count": 216,
   "outputs": []
  }
 ]
}
